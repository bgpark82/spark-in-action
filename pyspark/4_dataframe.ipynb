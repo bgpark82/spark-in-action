{
 "cells": [
  {
   "cell_type": "code",
   "id": "initial_id",
   "metadata": {
    "collapsed": true,
    "ExecuteTime": {
     "end_time": "2024-08-11T20:27:22.765292Z",
     "start_time": "2024-08-11T20:27:22.702054Z"
    }
   },
   "source": "from pyspark.sql import SparkSession",
   "outputs": [],
   "execution_count": 1
  },
  {
   "metadata": {
    "ExecuteTime": {
     "end_time": "2024-08-11T20:27:40.715808Z",
     "start_time": "2024-08-11T20:27:36.724198Z"
    }
   },
   "cell_type": "code",
   "source": "spark = SparkSession.builder.appName(\"spark\").getOrCreate()",
   "id": "a44c19695b0ffbcf",
   "outputs": [
    {
     "name": "stderr",
     "output_type": "stream",
     "text": [
      "Setting default log level to \"WARN\".\n",
      "To adjust logging level use sc.setLogLevel(newLevel). For SparkR, use setLogLevel(newLevel).\n",
      "24/08/11 22:27:39 WARN NativeCodeLoader: Unable to load native-hadoop library for your platform... using builtin-java classes where applicable\n"
     ]
    }
   ],
   "execution_count": 2
  },
  {
   "metadata": {
    "ExecuteTime": {
     "end_time": "2024-08-11T20:28:05.991274Z",
     "start_time": "2024-08-11T20:28:05.555353Z"
    }
   },
   "cell_type": "code",
   "source": "df_pyspark = spark.read.csv('test4.csv', header=True, inferSchema=True)",
   "id": "9171636c6273e112",
   "outputs": [],
   "execution_count": 5
  },
  {
   "metadata": {
    "ExecuteTime": {
     "end_time": "2024-08-11T20:28:10.604851Z",
     "start_time": "2024-08-11T20:28:10.292928Z"
    }
   },
   "cell_type": "code",
   "source": "df_pyspark.show()",
   "id": "294383133cb3f4fa",
   "outputs": [
    {
     "name": "stdout",
     "output_type": "stream",
     "text": [
      "+--------+---+----------+------+\n",
      "|    Name|age|Experience|Salary|\n",
      "+--------+---+----------+------+\n",
      "|   Krish| 31|        10| 30000|\n",
      "| Sunhand| 30|         8| 50000|\n",
      "|   Sunny| 29|         4| 20000|\n",
      "|    Paul| 24|         3| 15000|\n",
      "|Shuhaham| 21|         1| 18000|\n",
      "+--------+---+----------+------+\n",
      "\n"
     ]
    }
   ],
   "execution_count": 6
  },
  {
   "metadata": {},
   "cell_type": "markdown",
   "source": "# Filter Operations",
   "id": "e0a637f8371c25b0"
  },
  {
   "metadata": {
    "ExecuteTime": {
     "end_time": "2024-08-11T20:29:34.710712Z",
     "start_time": "2024-08-11T20:29:34.365534Z"
    }
   },
   "cell_type": "code",
   "source": [
    "# Salary of the people less than or equal to 20000\n",
    "df_pyspark.filter(\"Salary<=20000\").show()"
   ],
   "id": "a5311f65660f403d",
   "outputs": [
    {
     "name": "stdout",
     "output_type": "stream",
     "text": [
      "+--------+---+----------+------+\n",
      "|    Name|age|Experience|Salary|\n",
      "+--------+---+----------+------+\n",
      "|   Sunny| 29|         4| 20000|\n",
      "|    Paul| 24|         3| 15000|\n",
      "|Shuhaham| 21|         1| 18000|\n",
      "+--------+---+----------+------+\n",
      "\n"
     ]
    }
   ],
   "execution_count": 9
  },
  {
   "metadata": {
    "ExecuteTime": {
     "end_time": "2024-08-11T20:29:58.520887Z",
     "start_time": "2024-08-11T20:29:58.207739Z"
    }
   },
   "cell_type": "code",
   "source": "df_pyspark.filter(\"Salary<=20000\").select('Name','age').show()",
   "id": "b627a946e5c24826",
   "outputs": [
    {
     "name": "stdout",
     "output_type": "stream",
     "text": [
      "+--------+---+\n",
      "|    Name|age|\n",
      "+--------+---+\n",
      "|   Sunny| 29|\n",
      "|    Paul| 24|\n",
      "|Shuhaham| 21|\n",
      "+--------+---+\n",
      "\n"
     ]
    }
   ],
   "execution_count": 10
  },
  {
   "metadata": {
    "ExecuteTime": {
     "end_time": "2024-08-11T20:37:44.446539Z",
     "start_time": "2024-08-11T20:37:44.161248Z"
    }
   },
   "cell_type": "code",
   "source": " df_pyspark.filter(df_pyspark['Salary'] <= 20000).show()",
   "id": "168c4642447b12f1",
   "outputs": [
    {
     "name": "stdout",
     "output_type": "stream",
     "text": [
      "+--------+---+----------+------+\n",
      "|    Name|age|Experience|Salary|\n",
      "+--------+---+----------+------+\n",
      "|   Sunny| 29|         4| 20000|\n",
      "|    Paul| 24|         3| 15000|\n",
      "|Shuhaham| 21|         1| 18000|\n",
      "+--------+---+----------+------+\n",
      "\n"
     ]
    }
   ],
   "execution_count": 11
  },
  {
   "metadata": {
    "ExecuteTime": {
     "end_time": "2024-08-11T20:38:32.194258Z",
     "start_time": "2024-08-11T20:38:31.667247Z"
    }
   },
   "cell_type": "code",
   "source": "df_pyspark.filter((df_pyspark['Salary'] <= 20000) & (df_pyspark['Salary'] >= 16000)).show()",
   "id": "467c7e8b3dd6eced",
   "outputs": [
    {
     "name": "stdout",
     "output_type": "stream",
     "text": [
      "+--------+---+----------+------+\n",
      "|    Name|age|Experience|Salary|\n",
      "+--------+---+----------+------+\n",
      "|   Sunny| 29|         4| 20000|\n",
      "|Shuhaham| 21|         1| 18000|\n",
      "+--------+---+----------+------+\n",
      "\n"
     ]
    }
   ],
   "execution_count": 12
  },
  {
   "metadata": {
    "ExecuteTime": {
     "end_time": "2024-08-11T20:39:49.614715Z",
     "start_time": "2024-08-11T20:39:49.317728Z"
    }
   },
   "cell_type": "code",
   "source": " df_pyspark.filter(~(df_pyspark['Salary'] <= 20000)).show()\n",
   "id": "d73b4de342aa521c",
   "outputs": [
    {
     "name": "stdout",
     "output_type": "stream",
     "text": [
      "+-------+---+----------+------+\n",
      "|   Name|age|Experience|Salary|\n",
      "+-------+---+----------+------+\n",
      "|  Krish| 31|        10| 30000|\n",
      "|Sunhand| 30|         8| 50000|\n",
      "+-------+---+----------+------+\n",
      "\n"
     ]
    }
   ],
   "execution_count": 13
  },
  {
   "metadata": {},
   "cell_type": "code",
   "outputs": [],
   "execution_count": null,
   "source": "",
   "id": "c3867ed082402847"
  }
 ],
 "metadata": {
  "kernelspec": {
   "display_name": "Python 3",
   "language": "python",
   "name": "python3"
  },
  "language_info": {
   "codemirror_mode": {
    "name": "ipython",
    "version": 2
   },
   "file_extension": ".py",
   "mimetype": "text/x-python",
   "name": "python",
   "nbconvert_exporter": "python",
   "pygments_lexer": "ipython2",
   "version": "2.7.6"
  }
 },
 "nbformat": 4,
 "nbformat_minor": 5
}
