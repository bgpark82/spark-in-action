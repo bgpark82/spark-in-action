{
 "cells": [
  {
   "cell_type": "code",
   "id": "initial_id",
   "metadata": {
    "collapsed": true,
    "ExecuteTime": {
     "end_time": "2024-08-11T20:44:44.019720Z",
     "start_time": "2024-08-11T20:44:44.013596Z"
    }
   },
   "source": "# Pyspark groupby and aggregate",
   "outputs": [],
   "execution_count": 11
  },
  {
   "metadata": {
    "ExecuteTime": {
     "end_time": "2024-08-11T20:44:44.025369Z",
     "start_time": "2024-08-11T20:44:44.022071Z"
    }
   },
   "cell_type": "code",
   "source": "from pyspark.sql import SparkSession",
   "id": "be530b2d117150fe",
   "outputs": [],
   "execution_count": 12
  },
  {
   "metadata": {
    "ExecuteTime": {
     "end_time": "2024-08-11T20:44:44.042096Z",
     "start_time": "2024-08-11T20:44:44.026543Z"
    }
   },
   "cell_type": "code",
   "source": "spark = SparkSession.builder.appName('spark').getOrCreate()",
   "id": "d14885b1894ff8f7",
   "outputs": [],
   "execution_count": 13
  },
  {
   "metadata": {
    "ExecuteTime": {
     "end_time": "2024-08-11T20:44:44.325635Z",
     "start_time": "2024-08-11T20:44:44.043845Z"
    }
   },
   "cell_type": "code",
   "source": "df_pyspark = spark.read.csv('test5.csv', header=True, inferSchema=True)",
   "id": "afa27da66414f1a7",
   "outputs": [],
   "execution_count": 14
  },
  {
   "metadata": {
    "ExecuteTime": {
     "end_time": "2024-08-11T20:44:44.419918Z",
     "start_time": "2024-08-11T20:44:44.326389Z"
    }
   },
   "cell_type": "code",
   "source": "df_pyspark.show()",
   "id": "85fcf00b455b4d94",
   "outputs": [
    {
     "name": "stdout",
     "output_type": "stream",
     "text": [
      "+--------+------------+------+\n",
      "|    Name|  department|salary|\n",
      "+--------+------------+------+\n",
      "|   Krish|Data Science| 30000|\n",
      "| Sunhand|         IOT| 50000|\n",
      "| Sunhand|    Big Data| 20000|\n",
      "|    Paul|    Big Data| 15000|\n",
      "|Shuhaham|         IOT| 18000|\n",
      "|   Peter|Data Science| 18000|\n",
      "|   Peter|    Big Data| 18000|\n",
      "+--------+------------+------+\n",
      "\n"
     ]
    }
   ],
   "execution_count": 15
  },
  {
   "metadata": {
    "ExecuteTime": {
     "end_time": "2024-08-11T20:44:44.422289Z",
     "start_time": "2024-08-11T20:44:44.420737Z"
    }
   },
   "cell_type": "code",
   "source": "# Groupby",
   "id": "3dfde48c267b0575",
   "outputs": [],
   "execution_count": 16
  },
  {
   "metadata": {
    "ExecuteTime": {
     "end_time": "2024-08-11T20:44:44.845163Z",
     "start_time": "2024-08-11T20:44:44.422950Z"
    }
   },
   "cell_type": "code",
   "source": "df_pyspark.groupBy('Name').sum().show()",
   "id": "52585dee2cc60802",
   "outputs": [
    {
     "name": "stdout",
     "output_type": "stream",
     "text": [
      "+--------+-----------+\n",
      "|    Name|sum(salary)|\n",
      "+--------+-----------+\n",
      "|   Krish|      30000|\n",
      "| Sunhand|      70000|\n",
      "|Shuhaham|      18000|\n",
      "|   Peter|      36000|\n",
      "|    Paul|      15000|\n",
      "+--------+-----------+\n",
      "\n"
     ]
    }
   ],
   "execution_count": 17
  },
  {
   "metadata": {
    "ExecuteTime": {
     "end_time": "2024-08-11T20:45:27.205381Z",
     "start_time": "2024-08-11T20:45:26.703414Z"
    }
   },
   "cell_type": "code",
   "source": [
    "# groupby department which gives maximum salary\n",
    "df_pyspark.groupBy('department').max().show()"
   ],
   "id": "ba7e3a93cac6d20a",
   "outputs": [
    {
     "name": "stdout",
     "output_type": "stream",
     "text": [
      "+------------+-----------+\n",
      "|  department|max(salary)|\n",
      "+------------+-----------+\n",
      "|         IOT|      50000|\n",
      "|    Big Data|      20000|\n",
      "|Data Science|      30000|\n",
      "+------------+-----------+\n",
      "\n"
     ]
    }
   ],
   "execution_count": 19
  },
  {
   "metadata": {
    "ExecuteTime": {
     "end_time": "2024-08-11T20:45:49.703316Z",
     "start_time": "2024-08-11T20:45:49.293401Z"
    }
   },
   "cell_type": "code",
   "source": "df_pyspark.groupBy('department').mean().show()\n",
   "id": "22de80f805d5616c",
   "outputs": [
    {
     "name": "stdout",
     "output_type": "stream",
     "text": [
      "+------------+------------------+\n",
      "|  department|       avg(salary)|\n",
      "+------------+------------------+\n",
      "|         IOT|           34000.0|\n",
      "|    Big Data|17666.666666666668|\n",
      "|Data Science|           24000.0|\n",
      "+------------+------------------+\n",
      "\n"
     ]
    }
   ],
   "execution_count": 20
  },
  {
   "metadata": {
    "ExecuteTime": {
     "end_time": "2024-08-11T20:46:06.622460Z",
     "start_time": "2024-08-11T20:46:06.249915Z"
    }
   },
   "cell_type": "code",
   "source": "df_pyspark.groupBy('department').count().show()\n",
   "id": "4dd19ec7058ea2d5",
   "outputs": [
    {
     "name": "stdout",
     "output_type": "stream",
     "text": [
      "+------------+-----+\n",
      "|  department|count|\n",
      "+------------+-----+\n",
      "|         IOT|    2|\n",
      "|    Big Data|    3|\n",
      "|Data Science|    2|\n",
      "+------------+-----+\n",
      "\n"
     ]
    }
   ],
   "execution_count": 21
  },
  {
   "metadata": {
    "ExecuteTime": {
     "end_time": "2024-08-11T20:46:32.743402Z",
     "start_time": "2024-08-11T20:46:32.383483Z"
    }
   },
   "cell_type": "code",
   "source": "df_pyspark.agg({'salary':'sum'}).show()",
   "id": "d89ca47ec031a601",
   "outputs": [
    {
     "name": "stdout",
     "output_type": "stream",
     "text": [
      "+-----------+\n",
      "|sum(salary)|\n",
      "+-----------+\n",
      "|     169000|\n",
      "+-----------+\n",
      "\n"
     ]
    }
   ],
   "execution_count": 22
  },
  {
   "metadata": {
    "ExecuteTime": {
     "end_time": "2024-08-11T21:00:53.152386Z",
     "start_time": "2024-08-11T21:00:52.834947Z"
    }
   },
   "cell_type": "code",
   "source": "df_pyspark.groupBy('department').avg().show()\n",
   "id": "e4c3df9f832f83c1",
   "outputs": [
    {
     "name": "stdout",
     "output_type": "stream",
     "text": [
      "+------------+------------------+\n",
      "|  department|       avg(salary)|\n",
      "+------------+------------------+\n",
      "|         IOT|           34000.0|\n",
      "|    Big Data|17666.666666666668|\n",
      "|Data Science|           24000.0|\n",
      "+------------+------------------+\n",
      "\n"
     ]
    }
   ],
   "execution_count": 23
  },
  {
   "metadata": {},
   "cell_type": "code",
   "outputs": [],
   "execution_count": null,
   "source": "",
   "id": "c89fb96f2ceaef7f"
  }
 ],
 "metadata": {
  "kernelspec": {
   "display_name": "Python 3",
   "language": "python",
   "name": "python3"
  },
  "language_info": {
   "codemirror_mode": {
    "name": "ipython",
    "version": 2
   },
   "file_extension": ".py",
   "mimetype": "text/x-python",
   "name": "python",
   "nbconvert_exporter": "python",
   "pygments_lexer": "ipython2",
   "version": "2.7.6"
  }
 },
 "nbformat": 4,
 "nbformat_minor": 5
}
