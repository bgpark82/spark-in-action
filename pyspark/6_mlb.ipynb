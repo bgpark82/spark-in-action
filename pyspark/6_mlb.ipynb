{
 "cells": [
  {
   "metadata": {},
   "cell_type": "markdown",
   "source": "Pyspark ML",
   "id": "aef594fb66ade05e"
  },
  {
   "metadata": {},
   "cell_type": "code",
   "outputs": [],
   "execution_count": 1,
   "source": "from pyspark.sql import SparkSession",
   "id": "initial_id"
  },
  {
   "metadata": {},
   "cell_type": "code",
   "outputs": [
    {
     "name": "stderr",
     "output_type": "stream",
     "text": [
      "Setting default log level to \"WARN\".\n",
      "To adjust logging level use sc.setLogLevel(newLevel). For SparkR, use setLogLevel(newLevel).\n",
      "24/08/11 23:03:07 WARN NativeCodeLoader: Unable to load native-hadoop library for your platform... using builtin-java classes where applicable\n"
     ]
    }
   ],
   "execution_count": 2,
   "source": "spark = SparkSession.builder.appName('spark').getOrCreate()",
   "id": "e4f417098ab1e869"
  },
  {
   "metadata": {},
   "cell_type": "code",
   "outputs": [],
   "execution_count": 4,
   "source": "df_pyspark = spark.read.csv('test6.csv', header=True, inferSchema=True)",
   "id": "a936350435f89ed4"
  },
  {
   "metadata": {},
   "cell_type": "code",
   "outputs": [
    {
     "name": "stdout",
     "output_type": "stream",
     "text": [
      "+--------+---+----------+------+\n",
      "|    Name|age|Experience|Salary|\n",
      "+--------+---+----------+------+\n",
      "|   Krish| 31|        10| 30000|\n",
      "| Sunhand| 30|         8| 50000|\n",
      "|   Sunny| 29|         4| 20000|\n",
      "|    Paul| 24|         3| 15000|\n",
      "|Shuhaham| 21|         1| 18000|\n",
      "+--------+---+----------+------+\n",
      "\n"
     ]
    }
   ],
   "execution_count": 5,
   "source": "df_pyspark.show()",
   "id": "dbbb5bb6e7c3dacb"
  },
  {
   "metadata": {
    "ExecuteTime": {
     "end_time": "2024-08-11T21:04:41.177915Z",
     "start_time": "2024-08-11T21:04:41.102843Z"
    }
   },
   "cell_type": "code",
   "source": "from pyspark.ml.feature import VectorAssembler",
   "id": "20bd393b2bfca8a",
   "outputs": [],
   "execution_count": 6
  },
  {
   "metadata": {
    "ExecuteTime": {
     "end_time": "2024-08-11T21:06:55.832143Z",
     "start_time": "2024-08-11T21:06:55.796884Z"
    }
   },
   "cell_type": "code",
   "source": [
    "# VectorAssembler = group age and experience columns\n",
    "va = VectorAssembler(inputCols=[\"age\",\"Experience\"], outputCol=\"Indepennt Feature\")"
   ],
   "id": "a156c6a9e3543132",
   "outputs": [],
   "execution_count": 7
  },
  {
   "metadata": {
    "ExecuteTime": {
     "end_time": "2024-08-11T21:07:11.496743Z",
     "start_time": "2024-08-11T21:07:11.452958Z"
    }
   },
   "cell_type": "code",
   "source": "output = va.transform(df_pyspark)",
   "id": "6c273736e0da0686",
   "outputs": [],
   "execution_count": 9
  },
  {
   "metadata": {
    "ExecuteTime": {
     "end_time": "2024-08-11T21:07:14.939286Z",
     "start_time": "2024-08-11T21:07:14.278931Z"
    }
   },
   "cell_type": "code",
   "source": "output.show()",
   "id": "9dc7bd47d508c42a",
   "outputs": [
    {
     "name": "stdout",
     "output_type": "stream",
     "text": [
      "+--------+---+----------+------+-----------------+\n",
      "|    Name|age|Experience|Salary|Indepennt Feature|\n",
      "+--------+---+----------+------+-----------------+\n",
      "|   Krish| 31|        10| 30000|      [31.0,10.0]|\n",
      "| Sunhand| 30|         8| 50000|       [30.0,8.0]|\n",
      "|   Sunny| 29|         4| 20000|       [29.0,4.0]|\n",
      "|    Paul| 24|         3| 15000|       [24.0,3.0]|\n",
      "|Shuhaham| 21|         1| 18000|       [21.0,1.0]|\n",
      "+--------+---+----------+------+-----------------+\n",
      "\n"
     ]
    }
   ],
   "execution_count": 10
  },
  {
   "metadata": {
    "ExecuteTime": {
     "end_time": "2024-08-11T21:07:48.822782Z",
     "start_time": "2024-08-11T21:07:48.820411Z"
    }
   },
   "cell_type": "code",
   "source": "output.columns",
   "id": "af1de76707b3e4a0",
   "outputs": [
    {
     "data": {
      "text/plain": [
       "['Name', 'age', 'Experience', 'Salary', 'Indepennt Feature']"
      ]
     },
     "execution_count": 12,
     "metadata": {},
     "output_type": "execute_result"
    }
   ],
   "execution_count": 12
  },
  {
   "metadata": {
    "ExecuteTime": {
     "end_time": "2024-08-11T21:08:29.016419Z",
     "start_time": "2024-08-11T21:08:28.993397Z"
    }
   },
   "cell_type": "code",
   "source": "f_data = output.select('Indepennt Feature','Salary')",
   "id": "96a9f4adf2208284",
   "outputs": [],
   "execution_count": 15
  },
  {
   "metadata": {
    "ExecuteTime": {
     "end_time": "2024-08-11T21:08:30.214519Z",
     "start_time": "2024-08-11T21:08:29.807590Z"
    }
   },
   "cell_type": "code",
   "source": "f_data.show()",
   "id": "92e677a291efe4d4",
   "outputs": [
    {
     "name": "stdout",
     "output_type": "stream",
     "text": [
      "+-----------------+------+\n",
      "|Indepennt Feature|Salary|\n",
      "+-----------------+------+\n",
      "|      [31.0,10.0]| 30000|\n",
      "|       [30.0,8.0]| 50000|\n",
      "|       [29.0,4.0]| 20000|\n",
      "|       [24.0,3.0]| 15000|\n",
      "|       [21.0,1.0]| 18000|\n",
      "+-----------------+------+\n",
      "\n"
     ]
    }
   ],
   "execution_count": 16
  },
  {
   "metadata": {
    "ExecuteTime": {
     "end_time": "2024-08-11T21:08:54.438452Z",
     "start_time": "2024-08-11T21:08:54.436710Z"
    }
   },
   "cell_type": "code",
   "source": "from pyspark.ml.regression import LinearRegression",
   "id": "85ad10ec0be5a4fb",
   "outputs": [],
   "execution_count": 17
  },
  {
   "metadata": {
    "ExecuteTime": {
     "end_time": "2024-08-11T21:11:45.572820Z",
     "start_time": "2024-08-11T21:11:43.852926Z"
    }
   },
   "cell_type": "code",
   "source": [
    "# randomSplit = training data will have 75% of data, test data will have 25%\n",
    "# labelCol = output\n",
    "train_data, test_data = f_data.randomSplit([0.75, 0.25])\n",
    "regressor = LinearRegression(featuresCol=\"Indepennt Feature\", labelCol=\"Salary\")\n",
    "regressor = regressor.fit(train_data)"
   ],
   "id": "af538553baa84e2a",
   "outputs": [
    {
     "name": "stderr",
     "output_type": "stream",
     "text": [
      "24/08/11 23:11:44 WARN Instrumentation: [9dda2037] regParam is zero, which might cause numerical instability and overfitting.\n",
      "24/08/11 23:11:45 WARN InstanceBuilder: Failed to load implementation from:dev.ludovic.netlib.blas.JNIBLAS\n",
      "24/08/11 23:11:45 WARN Instrumentation: [9dda2037] The standard deviation of the label is zero, so the coefficients will be zeros and the intercept will be the mean of the label; as a result, training is not needed.\n"
     ]
    }
   ],
   "execution_count": 21
  },
  {
   "metadata": {
    "ExecuteTime": {
     "end_time": "2024-08-11T21:12:11.892695Z",
     "start_time": "2024-08-11T21:12:11.848601Z"
    }
   },
   "cell_type": "code",
   "source": "regressor.coefficients",
   "id": "72f024540e614cd5",
   "outputs": [
    {
     "data": {
      "text/plain": [
       "DenseVector([0.0, 0.0])"
      ]
     },
     "execution_count": 23,
     "metadata": {},
     "output_type": "execute_result"
    }
   ],
   "execution_count": 23
  },
  {
   "metadata": {
    "ExecuteTime": {
     "end_time": "2024-08-11T21:12:22.440486Z",
     "start_time": "2024-08-11T21:12:22.435554Z"
    }
   },
   "cell_type": "code",
   "source": "regressor.intercept",
   "id": "6bbf773dc14a6763",
   "outputs": [
    {
     "data": {
      "text/plain": [
       "20000.0"
      ]
     },
     "execution_count": 24,
     "metadata": {},
     "output_type": "execute_result"
    }
   ],
   "execution_count": 24
  },
  {
   "metadata": {
    "ExecuteTime": {
     "end_time": "2024-08-11T21:12:38.718588Z",
     "start_time": "2024-08-11T21:12:38.418571Z"
    }
   },
   "cell_type": "code",
   "source": "pred_results = regressor.evaluate(test_data)",
   "id": "9b6a68e1cde421ca",
   "outputs": [],
   "execution_count": 26
  },
  {
   "metadata": {
    "ExecuteTime": {
     "end_time": "2024-08-11T21:12:53.490299Z",
     "start_time": "2024-08-11T21:12:53.112913Z"
    }
   },
   "cell_type": "code",
   "source": "pred_results.predictions.show()",
   "id": "e74cbbcaae4542b",
   "outputs": [
    {
     "name": "stdout",
     "output_type": "stream",
     "text": [
      "+-----------------+------+----------+\n",
      "|Indepennt Feature|Salary|prediction|\n",
      "+-----------------+------+----------+\n",
      "|       [21.0,1.0]| 18000|   20000.0|\n",
      "|       [24.0,3.0]| 15000|   20000.0|\n",
      "|       [30.0,8.0]| 50000|   20000.0|\n",
      "|      [31.0,10.0]| 30000|   20000.0|\n",
      "+-----------------+------+----------+\n",
      "\n"
     ]
    }
   ],
   "execution_count": 28
  },
  {
   "metadata": {},
   "cell_type": "code",
   "outputs": [],
   "execution_count": null,
   "source": "",
   "id": "e804b63acd3d1b7f"
  }
 ],
 "metadata": {
  "kernelspec": {
   "display_name": "Python 3",
   "language": "python",
   "name": "python3"
  },
  "language_info": {
   "codemirror_mode": {
    "name": "ipython",
    "version": 2
   },
   "file_extension": ".py",
   "mimetype": "text/x-python",
   "name": "python",
   "nbconvert_exporter": "python",
   "pygments_lexer": "ipython2",
   "version": "2.7.6"
  }
 },
 "nbformat": 4,
 "nbformat_minor": 5
}
