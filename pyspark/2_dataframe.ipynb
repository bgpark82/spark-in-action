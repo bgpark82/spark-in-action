{
 "cells": [
  {
   "metadata": {},
   "cell_type": "markdown",
   "source": [
    "- pyspark dataframe\n",
    "- reading the dataset\n",
    "- checking the datatypes of column\n",
    "- select columns and indexing\n",
    "- check describe option similar to Pandas\n",
    "- adding columns\n",
    "- dropping columns"
   ],
   "id": "b25802898e47deef"
  },
  {
   "metadata": {
    "ExecuteTime": {
     "end_time": "2024-08-11T21:17:45.226423Z",
     "start_time": "2024-08-11T21:17:45.134347Z"
    }
   },
   "cell_type": "code",
   "source": "from pyspark.sql import SparkSession",
   "id": "6d945c18f6d4feb5",
   "outputs": [],
   "execution_count": 3
  },
  {
   "metadata": {
    "ExecuteTime": {
     "end_time": "2024-08-11T21:17:52.276164Z",
     "start_time": "2024-08-11T21:17:48.391653Z"
    }
   },
   "cell_type": "code",
   "source": "spark = SparkSession.builder.appName('Practice').getOrCreate()",
   "id": "a63b9931b6fb07d2",
   "outputs": [
    {
     "name": "stderr",
     "output_type": "stream",
     "text": [
      "Setting default log level to \"WARN\".\n",
      "To adjust logging level use sc.setLogLevel(newLevel). For SparkR, use setLogLevel(newLevel).\n",
      "24/08/11 23:17:50 WARN NativeCodeLoader: Unable to load native-hadoop library for your platform... using builtin-java classes where applicable\n",
      "24/08/11 23:17:51 WARN Utils: Service 'SparkUI' could not bind on port 4040. Attempting port 4041.\n",
      "24/08/11 23:17:51 WARN Utils: Service 'SparkUI' could not bind on port 4041. Attempting port 4042.\n",
      "24/08/11 23:17:51 WARN Utils: Service 'SparkUI' could not bind on port 4042. Attempting port 4043.\n"
     ]
    }
   ],
   "execution_count": 4
  },
  {
   "metadata": {
    "ExecuteTime": {
     "end_time": "2024-08-11T21:19:08.357246Z",
     "start_time": "2024-08-11T21:19:03.599464Z"
    }
   },
   "cell_type": "code",
   "source": "df_pyspark = spark.read.option('header', True).csv('test1.csv')",
   "id": "686d07ce2ccd79df",
   "outputs": [],
   "execution_count": 6
  },
  {
   "metadata": {
    "ExecuteTime": {
     "end_time": "2024-08-11T21:19:08.733900Z",
     "start_time": "2024-08-11T21:19:08.358229Z"
    }
   },
   "cell_type": "code",
   "source": "df_pyspark.show()",
   "id": "d62ac162ba4b6d06",
   "outputs": [
    {
     "name": "stdout",
     "output_type": "stream",
     "text": [
      "+-----+---+----------+\n",
      "| Name|age|Experience|\n",
      "+-----+---+----------+\n",
      "|Krist| 10|        20|\n",
      "|Peter| 30|         5|\n",
      "| Nate| 20|        12|\n",
      "+-----+---+----------+\n",
      "\n"
     ]
    }
   ],
   "execution_count": 7
  },
  {
   "metadata": {
    "ExecuteTime": {
     "end_time": "2024-08-11T21:19:09.622060Z",
     "start_time": "2024-08-11T21:19:09.617889Z"
    }
   },
   "cell_type": "code",
   "source": "type(df_pyspark)",
   "id": "514af420b6241f8d",
   "outputs": [
    {
     "data": {
      "text/plain": [
       "pyspark.sql.dataframe.DataFrame"
      ]
     },
     "execution_count": 8,
     "metadata": {},
     "output_type": "execute_result"
    }
   ],
   "execution_count": 8
  },
  {
   "metadata": {
    "ExecuteTime": {
     "end_time": "2024-08-11T21:19:14.352415Z",
     "start_time": "2024-08-11T21:19:14.179707Z"
    }
   },
   "cell_type": "code",
   "source": "df_pyspark.head(3)",
   "id": "66f1f0a52ff71620",
   "outputs": [
    {
     "data": {
      "text/plain": [
       "[Row(Name='Krist', age='10', Experience='20'),\n",
       " Row(Name='Peter', age='30', Experience='5'),\n",
       " Row(Name='Nate', age='20', Experience='12')]"
      ]
     },
     "execution_count": 9,
     "metadata": {},
     "output_type": "execute_result"
    }
   ],
   "execution_count": 9
  },
  {
   "metadata": {
    "ExecuteTime": {
     "end_time": "2024-08-11T21:19:20.874668Z",
     "start_time": "2024-08-11T21:19:20.870669Z"
    }
   },
   "cell_type": "code",
   "source": "df_pyspark.printSchema()",
   "id": "e1710b2ca4c3ebf6",
   "outputs": [
    {
     "name": "stdout",
     "output_type": "stream",
     "text": [
      "root\n",
      " |-- Name: string (nullable = true)\n",
      " |-- age: string (nullable = true)\n",
      " |-- Experience: string (nullable = true)\n",
      "\n"
     ]
    }
   ],
   "execution_count": 10
  },
  {
   "metadata": {
    "ExecuteTime": {
     "end_time": "2024-08-11T21:19:26.081598Z",
     "start_time": "2024-08-11T21:19:25.615093Z"
    }
   },
   "cell_type": "code",
   "source": [
    "# Read DataSet\n",
    "df_pyspark = spark.read.option('header', 'true').csv('test1.csv', inferSchema=True)"
   ],
   "id": "5883370d17d80326",
   "outputs": [],
   "execution_count": 11
  },
  {
   "metadata": {
    "ExecuteTime": {
     "end_time": "2024-08-11T21:19:30.701949Z",
     "start_time": "2024-08-11T21:19:30.699014Z"
    }
   },
   "cell_type": "code",
   "source": "df_pyspark.printSchema()",
   "id": "e03bf67cc4d34a77",
   "outputs": [
    {
     "name": "stdout",
     "output_type": "stream",
     "text": [
      "root\n",
      " |-- Name: string (nullable = true)\n",
      " |-- age: integer (nullable = true)\n",
      " |-- Experience: integer (nullable = true)\n",
      "\n"
     ]
    }
   ],
   "execution_count": 12
  },
  {
   "metadata": {
    "ExecuteTime": {
     "end_time": "2024-08-11T21:19:36.957853Z",
     "start_time": "2024-08-11T21:19:36.644086Z"
    }
   },
   "cell_type": "code",
   "source": "df_pyspark = spark.read.csv('test1.csv', header=True, inferSchema=True)",
   "id": "56ce8e785b734fe",
   "outputs": [],
   "execution_count": 13
  },
  {
   "metadata": {
    "ExecuteTime": {
     "end_time": "2024-08-11T21:19:41.271917Z",
     "start_time": "2024-08-11T21:19:41.268967Z"
    }
   },
   "cell_type": "code",
   "source": "df_pyspark.columns",
   "id": "78808a4eac186325",
   "outputs": [
    {
     "data": {
      "text/plain": [
       "['Name', 'age', 'Experience']"
      ]
     },
     "execution_count": 14,
     "metadata": {},
     "output_type": "execute_result"
    }
   ],
   "execution_count": 14
  },
  {
   "metadata": {
    "ExecuteTime": {
     "end_time": "2024-08-11T21:19:47.069193Z",
     "start_time": "2024-08-11T21:19:46.908856Z"
    }
   },
   "cell_type": "code",
   "source": "df_pyspark.head(3)",
   "id": "64a74f6a8b7b130f",
   "outputs": [
    {
     "data": {
      "text/plain": [
       "[Row(Name='Krist', age=10, Experience=20),\n",
       " Row(Name='Peter', age=30, Experience=5),\n",
       " Row(Name='Nate', age=20, Experience=12)]"
      ]
     },
     "execution_count": 16,
     "metadata": {},
     "output_type": "execute_result"
    }
   ],
   "execution_count": 16
  },
  {
   "metadata": {
    "ExecuteTime": {
     "end_time": "2024-08-11T21:19:50.439748Z",
     "start_time": "2024-08-11T21:19:50.151720Z"
    }
   },
   "cell_type": "code",
   "source": "df_pyspark.select(['Name', 'age']).show()",
   "id": "5383d17f7af19597",
   "outputs": [
    {
     "name": "stdout",
     "output_type": "stream",
     "text": [
      "+-----+---+\n",
      "| Name|age|\n",
      "+-----+---+\n",
      "|Krist| 10|\n",
      "|Peter| 30|\n",
      "| Nate| 20|\n",
      "+-----+---+\n",
      "\n"
     ]
    }
   ],
   "execution_count": 17
  },
  {
   "metadata": {
    "ExecuteTime": {
     "end_time": "2024-08-11T21:19:54.099881Z",
     "start_time": "2024-08-11T21:19:54.092947Z"
    }
   },
   "cell_type": "code",
   "source": "type(df_pyspark['Name'])",
   "id": "67c71c0bc43baff6",
   "outputs": [
    {
     "data": {
      "text/plain": [
       "pyspark.sql.column.Column"
      ]
     },
     "execution_count": 18,
     "metadata": {},
     "output_type": "execute_result"
    }
   ],
   "execution_count": 18
  },
  {
   "metadata": {
    "ExecuteTime": {
     "end_time": "2024-08-11T21:19:57.098406Z",
     "start_time": "2024-08-11T21:19:57.095409Z"
    }
   },
   "cell_type": "code",
   "source": "df_pyspark.dtypes",
   "id": "51516c41f2c02c78",
   "outputs": [
    {
     "data": {
      "text/plain": [
       "[('Name', 'string'), ('age', 'int'), ('Experience', 'int')]"
      ]
     },
     "execution_count": 19,
     "metadata": {},
     "output_type": "execute_result"
    }
   ],
   "execution_count": 19
  },
  {
   "metadata": {
    "ExecuteTime": {
     "end_time": "2024-08-11T21:20:01.710715Z",
     "start_time": "2024-08-11T21:19:59.901253Z"
    }
   },
   "cell_type": "code",
   "source": "df_pyspark.describe().show()",
   "id": "fb9df9f11c55c351",
   "outputs": [
    {
     "name": "stderr",
     "output_type": "stream",
     "text": [
      "[Stage 9:>                                                          (0 + 1) / 1]\r"
     ]
    },
    {
     "name": "stdout",
     "output_type": "stream",
     "text": [
      "+-------+-----+----+------------------+\n",
      "|summary| Name| age|        Experience|\n",
      "+-------+-----+----+------------------+\n",
      "|  count|    3|   3|                 3|\n",
      "|   mean| NULL|20.0|12.333333333333334|\n",
      "| stddev| NULL|10.0| 7.505553499465135|\n",
      "|    min|Krist|  10|                 5|\n",
      "|    max|Peter|  30|                20|\n",
      "+-------+-----+----+------------------+\n",
      "\n"
     ]
    },
    {
     "name": "stderr",
     "output_type": "stream",
     "text": [
      "                                                                                \r"
     ]
    }
   ],
   "execution_count": 20
  },
  {
   "metadata": {
    "ExecuteTime": {
     "end_time": "2024-08-11T21:20:13.058395Z",
     "start_time": "2024-08-11T21:20:12.842398Z"
    }
   },
   "cell_type": "code",
   "source": "df_pyspark.withColumn('Experience After two years', df_pyspark['Experience'] + 2).show()",
   "id": "173c5a25b5b2991e",
   "outputs": [
    {
     "name": "stdout",
     "output_type": "stream",
     "text": [
      "+-----+---+----------+--------------------------+\n",
      "| Name|age|Experience|Experience After two years|\n",
      "+-----+---+----------+--------------------------+\n",
      "|Krist| 10|        20|                        22|\n",
      "|Peter| 30|         5|                         7|\n",
      "| Nate| 20|        12|                        14|\n",
      "+-----+---+----------+--------------------------+\n",
      "\n"
     ]
    }
   ],
   "execution_count": 21
  },
  {
   "metadata": {
    "ExecuteTime": {
     "end_time": "2024-08-11T21:20:20.972619Z",
     "start_time": "2024-08-11T21:20:20.813582Z"
    }
   },
   "cell_type": "code",
   "source": "df_pyspark.withColumnRenamed('Name', 'New Name').show()",
   "id": "782dc14918b30f9e",
   "outputs": [
    {
     "name": "stdout",
     "output_type": "stream",
     "text": [
      "+--------+---+----------+\n",
      "|New Name|age|Experience|\n",
      "+--------+---+----------+\n",
      "|   Krist| 10|        20|\n",
      "|   Peter| 30|         5|\n",
      "|    Nate| 20|        12|\n",
      "+--------+---+----------+\n",
      "\n"
     ]
    }
   ],
   "execution_count": 22
  },
  {
   "metadata": {
    "ExecuteTime": {
     "end_time": "2024-08-11T21:20:22.206581Z",
     "start_time": "2024-08-11T21:20:22.076770Z"
    }
   },
   "cell_type": "code",
   "source": "df_pyspark.drop('Experience After two years').show()",
   "id": "b9143bd74db51ecf",
   "outputs": [
    {
     "name": "stdout",
     "output_type": "stream",
     "text": [
      "+-----+---+----------+\n",
      "| Name|age|Experience|\n",
      "+-----+---+----------+\n",
      "|Krist| 10|        20|\n",
      "|Peter| 30|         5|\n",
      "| Nate| 20|        12|\n",
      "+-----+---+----------+\n",
      "\n"
     ]
    }
   ],
   "execution_count": 23
  },
  {
   "metadata": {},
   "cell_type": "code",
   "outputs": [],
   "execution_count": null,
   "source": "",
   "id": "a47f13d1153ab68f"
  }
 ],
 "metadata": {
  "kernelspec": {
   "display_name": "Python 3",
   "language": "python",
   "name": "python3"
  },
  "language_info": {
   "codemirror_mode": {
    "name": "ipython",
    "version": 2
   },
   "file_extension": ".py",
   "mimetype": "text/x-python",
   "name": "python",
   "nbconvert_exporter": "python",
   "pygments_lexer": "ipython2",
   "version": "2.7.6"
  }
 },
 "nbformat": 4,
 "nbformat_minor": 5
}
